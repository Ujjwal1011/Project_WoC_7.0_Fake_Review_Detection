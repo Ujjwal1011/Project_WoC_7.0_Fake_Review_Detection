{
  "cells": [
    {
      "cell_type": "markdown",
      "metadata": {},
      "source": [
        "Preprocessing Data"
      ]
    },
    {
      "cell_type": "code",
      "execution_count": 1,
      "metadata": {
        "id": "DkCCowh7_fiJ"
      },
      "outputs": [],
      "source": [
        "import pandas as pd\n",
        "import string\n",
        "import nltk\n",
        "from nltk.tokenize import word_tokenize\n",
        "from nltk.stem import WordNetLemmatizer\n",
        "from sklearn.feature_extraction.text import TfidfVectorizer"
      ]
    },
    {
      "cell_type": "code",
      "execution_count": 2,
      "metadata": {
        "colab": {
          "base_uri": "https://localhost:8080/"
        },
        "id": "OyNztyVdLfhw",
        "outputId": "95d22a17-6982-46fa-fc6f-cc0d21637a83"
      },
      "outputs": [
        {
          "name": "stderr",
          "output_type": "stream",
          "text": [
            "[nltk_data] Downloading package punkt_tab to\n",
            "[nltk_data]     C:\\Users\\ujjwa_n18433z\\AppData\\Roaming\\nltk_data...\n",
            "[nltk_data]   Package punkt_tab is already up-to-date!\n",
            "[nltk_data] Downloading package stopwords to\n",
            "[nltk_data]     C:\\Users\\ujjwa_n18433z\\AppData\\Roaming\\nltk_data...\n",
            "[nltk_data]   Package stopwords is already up-to-date!\n",
            "[nltk_data] Downloading package wordnet to\n",
            "[nltk_data]     C:\\Users\\ujjwa_n18433z\\AppData\\Roaming\\nltk_data...\n",
            "[nltk_data]   Package wordnet is already up-to-date!\n"
          ]
        },
        {
          "data": {
            "text/plain": [
              "True"
            ]
          },
          "execution_count": 2,
          "metadata": {},
          "output_type": "execute_result"
        }
      ],
      "source": [
        "nltk.download('punkt_tab')\n",
        "nltk.download('stopwords')\n",
        "stopwords = nltk.corpus.stopwords.words('english')\n",
        "nltk.download('wordnet')"
      ]
    },
    {
      "cell_type": "markdown",
      "metadata": {},
      "source": [
        "Load file"
      ]
    },
    {
      "cell_type": "code",
      "execution_count": 6,
      "metadata": {
        "id": "NsrZT6HXAyK_"
      },
      "outputs": [],
      "source": [
        "ds = pd.read_csv(\"C:\\\\Users\\\\ujjwa_n18433z\\\\Desktop\\\\ujjwal\\\\All Projects\\\\Project_WoC_7.0_Fake_Review_Detection\\\\fakeReviewData.csv\")\n"
      ]
    },
    {
      "cell_type": "markdown",
      "metadata": {},
      "source": [
        "Removing Digit , Punctuation and Extra Space "
      ]
    },
    {
      "cell_type": "code",
      "execution_count": 11,
      "metadata": {
        "id": "ioJTyTjnDfLV"
      },
      "outputs": [],
      "source": [
        "ds[\"text_\"] = ds[\"text_\"].str.replace(r'\\d+', \"\", regex=True).str.lower()\n",
        "ds[\"text_\"] = ds[\"text_\"].str.translate(str.maketrans('', '', string.punctuation)).str.strip().str.replace(r'\\s+',' ', regex=True)"
      ]
    },
    {
      "cell_type": "markdown",
      "metadata": {},
      "source": [
        "Removing Stopwords"
      ]
    },
    {
      "cell_type": "code",
      "execution_count": 12,
      "metadata": {
        "id": "RkyM91CgKmrh"
      },
      "outputs": [],
      "source": [
        "ds[\"text_\"] = ds[\"text_\"].apply(lambda x: \" \".join(word for word in word_tokenize(x) if word not in stopwords))"
      ]
    },
    {
      "cell_type": "markdown",
      "metadata": {},
      "source": [
        "Lemmatizing Words"
      ]
    },
    {
      "cell_type": "code",
      "execution_count": 13,
      "metadata": {
        "id": "NOU7BHPtLAcm"
      },
      "outputs": [],
      "source": [
        "lemmatizer = WordNetLemmatizer()\n",
        "ds[\"text_\"] = ds[\"text_\"].apply(lambda x : \"\".join(lemmatizer.lemmatize(word) for word in x))"
      ]
    },
    {
      "cell_type": "markdown",
      "metadata": {},
      "source": [
        "Vectorizing the review \n"
      ]
    },
    {
      "cell_type": "code",
      "execution_count": 14,
      "metadata": {
        "id": "UsXIAfYNp9Rq"
      },
      "outputs": [],
      "source": [
        "tfidf_vectorizer=TfidfVectorizer(max_features=500)\n",
        "tfidf_vector = tfidf_vectorizer.fit_transform(ds[\"text_\"])"
      ]
    },
    {
      "cell_type": "code",
      "execution_count": 15,
      "metadata": {
        "id": "h0CnKJN-rnBd"
      },
      "outputs": [],
      "source": [
        "dfidf_df=pd.DataFrame(tfidf_vector.toarray(),columns=tfidf_vectorizer.get_feature_names_out())"
      ]
    },
    {
      "cell_type": "code",
      "execution_count": 17,
      "metadata": {
        "id": "I2MdbCn7shqZ"
      },
      "outputs": [],
      "source": [
        "ds=pd.concat([ds,dfidf_df],axis=1)"
      ]
    },
    {
      "cell_type": "code",
      "execution_count": 18,
      "metadata": {
        "colab": {
          "base_uri": "https://localhost:8080/",
          "height": 1000
        },
        "id": "CWTr4J5msqw4",
        "outputId": "8a86c120-4a06-48e2-dd60-8bae468f7e54"
      },
      "outputs": [
        {
          "data": {
            "text/html": [
              "<div>\n",
              "<style scoped>\n",
              "    .dataframe tbody tr th:only-of-type {\n",
              "        vertical-align: middle;\n",
              "    }\n",
              "\n",
              "    .dataframe tbody tr th {\n",
              "        vertical-align: top;\n",
              "    }\n",
              "\n",
              "    .dataframe thead th {\n",
              "        text-align: right;\n",
              "    }\n",
              "</style>\n",
              "<table border=\"1\" class=\"dataframe\">\n",
              "  <thead>\n",
              "    <tr style=\"text-align: right;\">\n",
              "      <th></th>\n",
              "      <th>category</th>\n",
              "      <th>rating</th>\n",
              "      <th>label</th>\n",
              "      <th>text_</th>\n",
              "      <th>able</th>\n",
              "      <th>absolutely</th>\n",
              "      <th>acting</th>\n",
              "      <th>action</th>\n",
              "      <th>actually</th>\n",
              "      <th>add</th>\n",
              "      <th>...</th>\n",
              "      <th>would</th>\n",
              "      <th>writing</th>\n",
              "      <th>written</th>\n",
              "      <th>wrong</th>\n",
              "      <th>year</th>\n",
              "      <th>years</th>\n",
              "      <th>yet</th>\n",
              "      <th>youll</th>\n",
              "      <th>young</th>\n",
              "      <th>youre</th>\n",
              "    </tr>\n",
              "  </thead>\n",
              "  <tbody>\n",
              "    <tr>\n",
              "      <th>0</th>\n",
              "      <td>Home_and_Kitchen_5</td>\n",
              "      <td>5.0</td>\n",
              "      <td>CG</td>\n",
              "      <td>love well made sturdy comfortable love itvery ...</td>\n",
              "      <td>0.000000</td>\n",
              "      <td>0.0</td>\n",
              "      <td>0.0</td>\n",
              "      <td>0.0</td>\n",
              "      <td>0.000000</td>\n",
              "      <td>0.0</td>\n",
              "      <td>...</td>\n",
              "      <td>0.000000</td>\n",
              "      <td>0.0</td>\n",
              "      <td>0.0</td>\n",
              "      <td>0.0</td>\n",
              "      <td>0.0</td>\n",
              "      <td>0.000000</td>\n",
              "      <td>0.0</td>\n",
              "      <td>0.0</td>\n",
              "      <td>0.0</td>\n",
              "      <td>0.000000</td>\n",
              "    </tr>\n",
              "    <tr>\n",
              "      <th>1</th>\n",
              "      <td>Home_and_Kitchen_5</td>\n",
              "      <td>5.0</td>\n",
              "      <td>CG</td>\n",
              "      <td>love great upgrade original ive mine couple years</td>\n",
              "      <td>0.000000</td>\n",
              "      <td>0.0</td>\n",
              "      <td>0.0</td>\n",
              "      <td>0.0</td>\n",
              "      <td>0.000000</td>\n",
              "      <td>0.0</td>\n",
              "      <td>...</td>\n",
              "      <td>0.000000</td>\n",
              "      <td>0.0</td>\n",
              "      <td>0.0</td>\n",
              "      <td>0.0</td>\n",
              "      <td>0.0</td>\n",
              "      <td>0.429135</td>\n",
              "      <td>0.0</td>\n",
              "      <td>0.0</td>\n",
              "      <td>0.0</td>\n",
              "      <td>0.000000</td>\n",
              "    </tr>\n",
              "    <tr>\n",
              "      <th>2</th>\n",
              "      <td>Home_and_Kitchen_5</td>\n",
              "      <td>5.0</td>\n",
              "      <td>CG</td>\n",
              "      <td>pillow saved back love look feel pillow</td>\n",
              "      <td>0.000000</td>\n",
              "      <td>0.0</td>\n",
              "      <td>0.0</td>\n",
              "      <td>0.0</td>\n",
              "      <td>0.000000</td>\n",
              "      <td>0.0</td>\n",
              "      <td>...</td>\n",
              "      <td>0.000000</td>\n",
              "      <td>0.0</td>\n",
              "      <td>0.0</td>\n",
              "      <td>0.0</td>\n",
              "      <td>0.0</td>\n",
              "      <td>0.000000</td>\n",
              "      <td>0.0</td>\n",
              "      <td>0.0</td>\n",
              "      <td>0.0</td>\n",
              "      <td>0.000000</td>\n",
              "    </tr>\n",
              "    <tr>\n",
              "      <th>3</th>\n",
              "      <td>Home_and_Kitchen_5</td>\n",
              "      <td>1.0</td>\n",
              "      <td>CG</td>\n",
              "      <td>missing information use great product price</td>\n",
              "      <td>0.000000</td>\n",
              "      <td>0.0</td>\n",
              "      <td>0.0</td>\n",
              "      <td>0.0</td>\n",
              "      <td>0.000000</td>\n",
              "      <td>0.0</td>\n",
              "      <td>...</td>\n",
              "      <td>0.000000</td>\n",
              "      <td>0.0</td>\n",
              "      <td>0.0</td>\n",
              "      <td>0.0</td>\n",
              "      <td>0.0</td>\n",
              "      <td>0.000000</td>\n",
              "      <td>0.0</td>\n",
              "      <td>0.0</td>\n",
              "      <td>0.0</td>\n",
              "      <td>0.000000</td>\n",
              "    </tr>\n",
              "    <tr>\n",
              "      <th>4</th>\n",
              "      <td>Home_and_Kitchen_5</td>\n",
              "      <td>5.0</td>\n",
              "      <td>CG</td>\n",
              "      <td>nice set good quality set two months</td>\n",
              "      <td>0.000000</td>\n",
              "      <td>0.0</td>\n",
              "      <td>0.0</td>\n",
              "      <td>0.0</td>\n",
              "      <td>0.000000</td>\n",
              "      <td>0.0</td>\n",
              "      <td>...</td>\n",
              "      <td>0.000000</td>\n",
              "      <td>0.0</td>\n",
              "      <td>0.0</td>\n",
              "      <td>0.0</td>\n",
              "      <td>0.0</td>\n",
              "      <td>0.000000</td>\n",
              "      <td>0.0</td>\n",
              "      <td>0.0</td>\n",
              "      <td>0.0</td>\n",
              "      <td>0.000000</td>\n",
              "    </tr>\n",
              "    <tr>\n",
              "      <th>...</th>\n",
              "      <td>...</td>\n",
              "      <td>...</td>\n",
              "      <td>...</td>\n",
              "      <td>...</td>\n",
              "      <td>...</td>\n",
              "      <td>...</td>\n",
              "      <td>...</td>\n",
              "      <td>...</td>\n",
              "      <td>...</td>\n",
              "      <td>...</td>\n",
              "      <td>...</td>\n",
              "      <td>...</td>\n",
              "      <td>...</td>\n",
              "      <td>...</td>\n",
              "      <td>...</td>\n",
              "      <td>...</td>\n",
              "      <td>...</td>\n",
              "      <td>...</td>\n",
              "      <td>...</td>\n",
              "      <td>...</td>\n",
              "      <td>...</td>\n",
              "    </tr>\n",
              "    <tr>\n",
              "      <th>40427</th>\n",
              "      <td>Clothing_Shoes_and_Jewelry_5</td>\n",
              "      <td>4.0</td>\n",
              "      <td>OR</td>\n",
              "      <td>read reviews saying bra ran small ordered two ...</td>\n",
              "      <td>0.172311</td>\n",
              "      <td>0.0</td>\n",
              "      <td>0.0</td>\n",
              "      <td>0.0</td>\n",
              "      <td>0.094095</td>\n",
              "      <td>0.0</td>\n",
              "      <td>...</td>\n",
              "      <td>0.051699</td>\n",
              "      <td>0.0</td>\n",
              "      <td>0.0</td>\n",
              "      <td>0.0</td>\n",
              "      <td>0.0</td>\n",
              "      <td>0.000000</td>\n",
              "      <td>0.0</td>\n",
              "      <td>0.0</td>\n",
              "      <td>0.0</td>\n",
              "      <td>0.000000</td>\n",
              "    </tr>\n",
              "    <tr>\n",
              "      <th>40428</th>\n",
              "      <td>Clothing_Shoes_and_Jewelry_5</td>\n",
              "      <td>5.0</td>\n",
              "      <td>CG</td>\n",
              "      <td>wasnt sure exactly would little large small si...</td>\n",
              "      <td>0.000000</td>\n",
              "      <td>0.0</td>\n",
              "      <td>0.0</td>\n",
              "      <td>0.0</td>\n",
              "      <td>0.000000</td>\n",
              "      <td>0.0</td>\n",
              "      <td>...</td>\n",
              "      <td>0.205517</td>\n",
              "      <td>0.0</td>\n",
              "      <td>0.0</td>\n",
              "      <td>0.0</td>\n",
              "      <td>0.0</td>\n",
              "      <td>0.000000</td>\n",
              "      <td>0.0</td>\n",
              "      <td>0.0</td>\n",
              "      <td>0.0</td>\n",
              "      <td>0.000000</td>\n",
              "    </tr>\n",
              "    <tr>\n",
              "      <th>40429</th>\n",
              "      <td>Clothing_Shoes_and_Jewelry_5</td>\n",
              "      <td>2.0</td>\n",
              "      <td>OR</td>\n",
              "      <td>wear hood wear hood wear jacket without hood s...</td>\n",
              "      <td>0.000000</td>\n",
              "      <td>0.0</td>\n",
              "      <td>0.0</td>\n",
              "      <td>0.0</td>\n",
              "      <td>0.000000</td>\n",
              "      <td>0.0</td>\n",
              "      <td>...</td>\n",
              "      <td>0.051273</td>\n",
              "      <td>0.0</td>\n",
              "      <td>0.0</td>\n",
              "      <td>0.0</td>\n",
              "      <td>0.0</td>\n",
              "      <td>0.000000</td>\n",
              "      <td>0.0</td>\n",
              "      <td>0.0</td>\n",
              "      <td>0.0</td>\n",
              "      <td>0.291747</td>\n",
              "    </tr>\n",
              "    <tr>\n",
              "      <th>40430</th>\n",
              "      <td>Clothing_Shoes_and_Jewelry_5</td>\n",
              "      <td>1.0</td>\n",
              "      <td>CG</td>\n",
              "      <td>liked nothing dress reason gave stars ordered ...</td>\n",
              "      <td>0.000000</td>\n",
              "      <td>0.0</td>\n",
              "      <td>0.0</td>\n",
              "      <td>0.0</td>\n",
              "      <td>0.000000</td>\n",
              "      <td>0.0</td>\n",
              "      <td>...</td>\n",
              "      <td>0.039123</td>\n",
              "      <td>0.0</td>\n",
              "      <td>0.0</td>\n",
              "      <td>0.0</td>\n",
              "      <td>0.0</td>\n",
              "      <td>0.000000</td>\n",
              "      <td>0.0</td>\n",
              "      <td>0.0</td>\n",
              "      <td>0.0</td>\n",
              "      <td>0.000000</td>\n",
              "    </tr>\n",
              "    <tr>\n",
              "      <th>40431</th>\n",
              "      <td>Clothing_Shoes_and_Jewelry_5</td>\n",
              "      <td>5.0</td>\n",
              "      <td>OR</td>\n",
              "      <td>work wedding industry work long days feet outs...</td>\n",
              "      <td>0.061358</td>\n",
              "      <td>0.0</td>\n",
              "      <td>0.0</td>\n",
              "      <td>0.0</td>\n",
              "      <td>0.000000</td>\n",
              "      <td>0.0</td>\n",
              "      <td>...</td>\n",
              "      <td>0.000000</td>\n",
              "      <td>0.0</td>\n",
              "      <td>0.0</td>\n",
              "      <td>0.0</td>\n",
              "      <td>0.0</td>\n",
              "      <td>0.000000</td>\n",
              "      <td>0.0</td>\n",
              "      <td>0.0</td>\n",
              "      <td>0.0</td>\n",
              "      <td>0.000000</td>\n",
              "    </tr>\n",
              "  </tbody>\n",
              "</table>\n",
              "<p>40432 rows × 504 columns</p>\n",
              "</div>"
            ],
            "text/plain": [
              "                           category  rating label  \\\n",
              "0                Home_and_Kitchen_5     5.0    CG   \n",
              "1                Home_and_Kitchen_5     5.0    CG   \n",
              "2                Home_and_Kitchen_5     5.0    CG   \n",
              "3                Home_and_Kitchen_5     1.0    CG   \n",
              "4                Home_and_Kitchen_5     5.0    CG   \n",
              "...                             ...     ...   ...   \n",
              "40427  Clothing_Shoes_and_Jewelry_5     4.0    OR   \n",
              "40428  Clothing_Shoes_and_Jewelry_5     5.0    CG   \n",
              "40429  Clothing_Shoes_and_Jewelry_5     2.0    OR   \n",
              "40430  Clothing_Shoes_and_Jewelry_5     1.0    CG   \n",
              "40431  Clothing_Shoes_and_Jewelry_5     5.0    OR   \n",
              "\n",
              "                                                   text_      able  \\\n",
              "0      love well made sturdy comfortable love itvery ...  0.000000   \n",
              "1      love great upgrade original ive mine couple years  0.000000   \n",
              "2                pillow saved back love look feel pillow  0.000000   \n",
              "3            missing information use great product price  0.000000   \n",
              "4                   nice set good quality set two months  0.000000   \n",
              "...                                                  ...       ...   \n",
              "40427  read reviews saying bra ran small ordered two ...  0.172311   \n",
              "40428  wasnt sure exactly would little large small si...  0.000000   \n",
              "40429  wear hood wear hood wear jacket without hood s...  0.000000   \n",
              "40430  liked nothing dress reason gave stars ordered ...  0.000000   \n",
              "40431  work wedding industry work long days feet outs...  0.061358   \n",
              "\n",
              "       absolutely  acting  action  actually  add  ...     would  writing  \\\n",
              "0             0.0     0.0     0.0  0.000000  0.0  ...  0.000000      0.0   \n",
              "1             0.0     0.0     0.0  0.000000  0.0  ...  0.000000      0.0   \n",
              "2             0.0     0.0     0.0  0.000000  0.0  ...  0.000000      0.0   \n",
              "3             0.0     0.0     0.0  0.000000  0.0  ...  0.000000      0.0   \n",
              "4             0.0     0.0     0.0  0.000000  0.0  ...  0.000000      0.0   \n",
              "...           ...     ...     ...       ...  ...  ...       ...      ...   \n",
              "40427         0.0     0.0     0.0  0.094095  0.0  ...  0.051699      0.0   \n",
              "40428         0.0     0.0     0.0  0.000000  0.0  ...  0.205517      0.0   \n",
              "40429         0.0     0.0     0.0  0.000000  0.0  ...  0.051273      0.0   \n",
              "40430         0.0     0.0     0.0  0.000000  0.0  ...  0.039123      0.0   \n",
              "40431         0.0     0.0     0.0  0.000000  0.0  ...  0.000000      0.0   \n",
              "\n",
              "       written  wrong  year     years  yet  youll  young     youre  \n",
              "0          0.0    0.0   0.0  0.000000  0.0    0.0    0.0  0.000000  \n",
              "1          0.0    0.0   0.0  0.429135  0.0    0.0    0.0  0.000000  \n",
              "2          0.0    0.0   0.0  0.000000  0.0    0.0    0.0  0.000000  \n",
              "3          0.0    0.0   0.0  0.000000  0.0    0.0    0.0  0.000000  \n",
              "4          0.0    0.0   0.0  0.000000  0.0    0.0    0.0  0.000000  \n",
              "...        ...    ...   ...       ...  ...    ...    ...       ...  \n",
              "40427      0.0    0.0   0.0  0.000000  0.0    0.0    0.0  0.000000  \n",
              "40428      0.0    0.0   0.0  0.000000  0.0    0.0    0.0  0.000000  \n",
              "40429      0.0    0.0   0.0  0.000000  0.0    0.0    0.0  0.291747  \n",
              "40430      0.0    0.0   0.0  0.000000  0.0    0.0    0.0  0.000000  \n",
              "40431      0.0    0.0   0.0  0.000000  0.0    0.0    0.0  0.000000  \n",
              "\n",
              "[40432 rows x 504 columns]"
            ]
          },
          "execution_count": 18,
          "metadata": {},
          "output_type": "execute_result"
        }
      ],
      "source": [
        "ds"
      ]
    },
    {
      "cell_type": "code",
      "execution_count": null,
      "metadata": {
        "id": "JgXa3WQAudZc"
      },
      "outputs": [],
      "source": []
    }
  ],
  "metadata": {
    "colab": {
      "provenance": []
    },
    "kernelspec": {
      "display_name": "Python 3",
      "name": "python3"
    },
    "language_info": {
      "codemirror_mode": {
        "name": "ipython",
        "version": 3
      },
      "file_extension": ".py",
      "mimetype": "text/x-python",
      "name": "python",
      "nbconvert_exporter": "python",
      "pygments_lexer": "ipython3",
      "version": "3.11.2"
    }
  },
  "nbformat": 4,
  "nbformat_minor": 0
}
